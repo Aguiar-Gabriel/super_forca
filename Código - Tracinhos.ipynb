{
 "cells": [
  {
   "cell_type": "code",
   "execution_count": 1,
   "id": "8e85a274",
   "metadata": {},
   "outputs": [
    {
     "name": "stdout",
     "output_type": "stream",
     "text": [
      "Insira uma ou mais palavras para o jogador advinhar: teste\n",
      "_ _ _ _ _ \n"
     ]
    }
   ],
   "source": [
    "palavra = input('Insira uma ou mais palavras para o jogador advinhar: ')\n",
    "\n",
    "caracteres = list(palavra)\n",
    "\n",
    "cont = 0\n",
    "\n",
    "troca = 0\n",
    "lista_troca = []\n",
    "\n",
    "for elemento in caracteres:\n",
    "    if elemento == ' ':\n",
    "        troca = cont\n",
    "        caracteres.pop(troca)\n",
    "        lista_troca.append(troca)\n",
    "        \n",
    "    cont +=1\n",
    "\n",
    "cont_caracteres = len(caracteres)\n",
    "\n",
    "espacos_letras = '_' * cont_caracteres\n",
    "\n",
    "lista_espacos_letras = list(espacos_letras)\n",
    "\n",
    "elemento = -1\n",
    "cont = 1\n",
    "\n",
    "if len(lista_troca) != 0:\n",
    "    if len(lista_troca) == 1:\n",
    "        for i in lista_troca:\n",
    "            lista_espacos_letras.insert(i, ' ')\n",
    "    elif len(lista_troca) > 1:\n",
    "        while cont <= len(lista_troca):\n",
    "            i = lista_troca[elemento]\n",
    "            \n",
    "            lista_espacos_letras.insert(i, ' ')\n",
    "            \n",
    "            elemento -= 1\n",
    "            cont += 1\n",
    "                \n",
    "espacos_letras = ''.join(map(str, lista_espacos_letras))\n",
    "\n",
    "espacos_letras = espacos_letras.replace(' ', '  ')\n",
    "espacos_letras = espacos_letras.replace('_', '_ ')\n",
    "\n",
    "print(espacos_letras)"
   ]
  },
  {
   "cell_type": "code",
   "execution_count": null,
   "id": "ca7307c7",
   "metadata": {},
   "outputs": [],
   "source": []
  }
 ],
 "metadata": {
  "kernelspec": {
   "display_name": "Python 3 (ipykernel)",
   "language": "python",
   "name": "python3"
  },
  "language_info": {
   "codemirror_mode": {
    "name": "ipython",
    "version": 3
   },
   "file_extension": ".py",
   "mimetype": "text/x-python",
   "name": "python",
   "nbconvert_exporter": "python",
   "pygments_lexer": "ipython3",
   "version": "3.9.12"
  }
 },
 "nbformat": 4,
 "nbformat_minor": 5
}
